{
 "cells": [
  {
   "cell_type": "code",
   "execution_count": 25,
   "metadata": {},
   "outputs": [],
   "source": [
    "from json import load\n",
    "import os\n",
    "import re\n",
    "from colorama import Fore"
   ]
  },
  {
   "cell_type": "code",
   "execution_count": 26,
   "metadata": {},
   "outputs": [],
   "source": [
    "json_dir = os.path.join(\"json\", \"fake_data.json\")\n",
    "\n",
    "with open(json_dir, \"r\") as f:\n",
    "    fake_data = load(f)"
   ]
  },
  {
   "cell_type": "code",
   "execution_count": 27,
   "metadata": {},
   "outputs": [],
   "source": [
    "list_of_names = []\n",
    "list_of_emails = []\n",
    "list_of_cpf = []\n",
    "list_of_phones = []"
   ]
  },
  {
   "cell_type": "code",
   "execution_count": 28,
   "metadata": {},
   "outputs": [],
   "source": [
    "for key in fake_data:\n",
    "    name_value = key[\"name\"]\n",
    "    email_value = key[\"email\"]\n",
    "    cpf_value = key[\"cpf\"]\n",
    "    phone_value = key[\"phone\"]\n",
    "\n",
    "    list_of_names.append(name_value)\n",
    "    list_of_emails.append(email_value)\n",
    "    list_of_cpf.append(cpf_value)\n",
    "    list_of_phones.append(phone_value)"
   ]
  },
  {
   "cell_type": "code",
   "execution_count": null,
   "metadata": {},
   "outputs": [],
   "source": [
    "# Regex basic use\n",
    "for search_name, search_email, search_cpf, search_phones in zip(\n",
    "    list_of_names, list_of_emails, list_of_cpf, list_of_phones\n",
    "):\n",
    "    match_doctors = re.findall(r\"[Dd]ra?\\.\", search_name)\n",
    "    if match_doctors:\n",
    "        print(Fore.BLUE + f\"{search_name}, is a Doctor!\")\n",
    "\n",
    "    match_srs = re.findall(r\"[Ss]r\", search_name)\n",
    "    if match_srs:\n",
    "        print(Fore.YELLOW + f\"This name is formal: {search_name}.\")\n",
    "\n",
    "    match_cpfs = re.findall(r\"[0-9]{3}.[0-9]{3}.[0-9]{3}-[0-9]{2}\", search_cpf)\n",
    "    if match_cpfs:\n",
    "        print(Fore.CYAN + f\"CPF found: {match_cpfs}\")\n",
    "\n",
    "    match_emails = re.findall(r\"^([\\w]+@[\\w\\.]+)$\", search_email)\n",
    "    if match_emails:\n",
    "        print(Fore.BLACK + f\"Email found: {match_emails}\")\n",
    "\n",
    "    match_cell_phones_numbers = re.findall(\n",
    "        r\"[\\+][0-9]{2,3}.[\\(]?[0-9]{2,3}..[\\)]?\\d*[\\-]?.?\\d*\", search_phones\n",
    "    )\n",
    "    if match_cell_phones_numbers:\n",
    "        print(Fore.MAGENTA + f\"Cell phone numbers found: {match_cell_phones_numbers}\")\n",
    "\n",
    "    match_fix_tel_numbers = re.findall(\n",
    "        r\"[\\(]?[0-9]{2,3}[\\)]?[\\-]?.?[0-9]{4}[\\-]?.?[0-9]{3,4}\", search_phones\n",
    "    )\n",
    "    if match_fix_tel_numbers:\n",
    "        print(Fore.RED + f\"Fix numbers found: {match_fix_tel_numbers}\")\n",
    "\n",
    "    match_free_service_number = re.findall(\n",
    "        r\"^[0800]{4}.?[\\-]?[0-9]{3}.?[\\-]?[0-9]{4}\", search_phones\n",
    "    )\n",
    "\n",
    "    if match_free_service_number:\n",
    "        print(Fore.WHITE + f\"Service free numbers found: {match_free_service_number}\")\n",
    "\n",
    "    match_not_free_service_number = re.findall(\n",
    "        r\"^0{1}[0-7,9]{1}[00]{2}.?[\\-]?[0-9]{3}.?[\\-]?[0-9]{4}\", search_phones\n",
    "    )\n",
    "    if match_not_free_service_number:\n",
    "        print(\n",
    "            Fore.GREEN\n",
    "            + f\"Service not free numbers found: {match_not_free_service_number}\"\n",
    "        )"
   ]
  },
  {
   "cell_type": "code",
   "execution_count": null,
   "metadata": {},
   "outputs": [],
   "source": [
    "# Lookahead and lookbehind\n",
    "for search_email in list_of_emails:\n",
    "    match_username = re.findall(r\"[\\w]+(?=@)\", search_email)\n",
    "    if match_username:\n",
    "        print(Fore.GREEN + f\"Username from e-mail found: {match_username}\")\n",
    "\n",
    "    match_domain = re.findall(r\"@([\\w\\.]+)$\", search_email)\n",
    "    if match_domain:\n",
    "        print(Fore.BLUE + f\"Domain from e-mail found: {match_domain}\")"
   ]
  }
 ],
 "metadata": {
  "kernelspec": {
   "display_name": ".venv",
   "language": "python",
   "name": "python3"
  },
  "language_info": {
   "codemirror_mode": {
    "name": "ipython",
    "version": 3
   },
   "file_extension": ".py",
   "mimetype": "text/x-python",
   "name": "python",
   "nbconvert_exporter": "python",
   "pygments_lexer": "ipython3",
   "version": "3.10.12"
  }
 },
 "nbformat": 4,
 "nbformat_minor": 2
}
